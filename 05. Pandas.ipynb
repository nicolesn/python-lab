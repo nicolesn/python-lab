{
 "cells": [
  {
   "cell_type": "code",
   "execution_count": 2,
   "metadata": {},
   "outputs": [],
   "source": [
    "import numpy as np\n",
    "import pandas as pd"
   ]
  },
  {
   "cell_type": "markdown",
   "metadata": {},
   "source": [
    "## 插播: 在 `matplotlib` 中顯示中文\n",
    "\n",
    "這裡參考 Mosky 在, 比如說[這裡](https://github.com/moskytw/hypothesis-testing-with-python)的做法。\n",
    "\n",
    "如果明明有的字型, `matplotlib` 說找不到的話, 有可能需要讓 `matplotlib` 清掉原本的 cache。\n",
    "\n",
    "    !rm -rf {mpl.get_cachedir()}\n",
    "    matplotlib.font_manager._rebuild()"
   ]
  },
  {
   "cell_type": "code",
   "execution_count": null,
   "metadata": {},
   "outputs": [],
   "source": [
    "import matplitlib as mpl"
   ]
  },
  {
   "cell_type": "markdown",
   "metadata": {},
   "source": [
    "使用 Google `Noto Sans CJK TC` 字型, 請到[這裡](https://www.google.com/get/noto/#sans-hant)下載。"
   ]
  },
  {
   "cell_type": "code",
   "execution_count": null,
   "metadata": {},
   "outputs": [],
   "source": []
  },
  {
   "cell_type": "markdown",
   "metadata": {},
   "source": [
    "如果你很好奇有什麼字型可以用...\n",
    "\n",
    "    [f.name for f in mpl.font_manager.fontManager.ttflist]"
   ]
  },
  {
   "cell_type": "markdown",
   "metadata": {},
   "source": [
    "## 05-01 暖身來個比較「正規」的資料\n",
    "\n",
    "### 一些 Open Data\n",
    "\n",
    "* [政府資料開放平台](https://data.gov.tw)\n",
    "* [UCI Machine Learning Repository](https://archive.ics.uci.edu/ml/index.php)\n"
   ]
  },
  {
   "cell_type": "code",
   "execution_count": 4,
   "metadata": {},
   "outputs": [],
   "source": [
    "#政府開放資料平台中的求學資料\n",
    "\n",
    "df = pd.read_csv('http://stats.moe.gov.tw/files/detail/103/103_student.csv')\n",
    "\n",
    "#如果有用逗號的數字，要把逗號轉換成純數字\n",
    "#某種數字的表示方式轉換成浮點數的表示方式\n",
    "\n",
    "import locale\n",
    "# atof 將字串變成福點數\n",
    "#用 . 代表要取那一欄\n"
   ]
  },
  {
   "cell_type": "markdown",
   "metadata": {},
   "source": [
    "![view 和 copy](images/pandas_view_copy.png)\n",
    "\n",
    "注意接下來我們用了 `copy`, 你可能感覺好像不需要用, 事實上沒有用也可以執行, 只是 `pandas` 會警告你...\n",
    "\n",
    "這牽涉大概每個用 `pandas` 的人, 都會碰到的 SettingWithCopyWarning!\n",
    "\n",
    "請參考[這個影片](https://youtu.be/4R4WsDJ-KVc), 理解要怎麼解決。事實上這是一個非常棒的 `pandas` 系列教學!"
   ]
  },
  {
   "cell_type": "markdown",
   "metadata": {},
   "source": [
    "## 05-02 例子、例子、例子"
   ]
  },
  {
   "cell_type": "markdown",
   "metadata": {},
   "source": [
    "### 我的 Mac 有沒有好棒棒"
   ]
  },
  {
   "cell_type": "code",
   "execution_count": 6,
   "metadata": {},
   "outputs": [],
   "source": [
    "df = pd.read_html('https://browser.geekbench.com/mac-benchmarks\n",
    "                  "
   ]
  },
  {
   "cell_type": "markdown",
   "metadata": {},
   "source": [
    "### 大樂透"
   ]
  },
  {
   "cell_type": "code",
   "execution_count": null,
   "metadata": {},
   "outputs": [],
   "source": []
  },
  {
   "cell_type": "markdown",
   "metadata": {},
   "source": [
    "## 05-03 正式開始\n",
    "\n",
    "首先我們來讀入一個 CSV 檔, 這裡有個「假的」學測成績, 叫 `grades.csv` 我們來練習一下。"
   ]
  },
  {
   "cell_type": "code",
   "execution_count": null,
   "metadata": {},
   "outputs": [],
   "source": []
  },
  {
   "cell_type": "markdown",
   "metadata": {},
   "source": [
    "用 `df` 是標準的叫法 (雖然這名稱我們隨便取也可以), 意思是 Data Frame, 這是 `pandas` 兩大資料結構之一。我們可以把 Data Frame 想成一張表格 (雖然其實可以是很多張表格)。\n",
    "\n",
    "我們來看看我們 `df` 的前五筆資料。"
   ]
  },
  {
   "cell_type": "code",
   "execution_count": null,
   "metadata": {},
   "outputs": [],
   "source": []
  },
  {
   "cell_type": "markdown",
   "metadata": {},
   "source": [
    "如果你曾經手動讀入 CSV 檔, 就知道這省了多少事 (雖然我個人還挺喜歡純手動帶進 CSV)。\n",
    "\n",
    "#### Excel 檔也可以快速讀入\n",
    "\n",
    "不只 CSV 檔, 很多資料檔案, 像 Excel 檔都很容易在 `pandas` 完成。使用法是這樣:\n",
    "\n",
    "    df2 = pd.read_excel('filename.xls', 'sheetname')\n",
    "    \n",
    "其中 sheetname 那裡要放工作表的名稱, 如果是中文的最好改成英文。"
   ]
  },
  {
   "cell_type": "markdown",
   "metadata": {},
   "source": [
    "## 05-04 Pandas 基本資料結構\n",
    "\n",
    "Pandas 有兩個基本資料結構:\n",
    "\n",
    "* <b style=\"color:red;\">DataFrame</b>: 可以想成一個表格。\n",
    "* <b style=\"color:red;\">Series</b>: 表格的某一列、某一行, 基本上就是我們以前的 list 或 array\n",
    "\n",
    "一個 DataFrame, 我們有 `index` (列的名稱), `columns` (行的名稱)。\n",
    "\n",
    "#### DataFrame\n",
    "\n",
    "![DataFrame 的結構](images/indexcol.png)"
   ]
  },
  {
   "cell_type": "markdown",
   "metadata": {},
   "source": [
    "#### Series\n",
    "\n",
    "剛剛說 series 大概就是一個 list, 一個 array。其實更精準的說, 其實是一個有 \"index\" 的 array。\n",
    "\n",
    "DataFrame 的每一行或每一列其實也都是一個 series。我們來看個例子, 例如所有同學的國文成績, 就是一個 series。"
   ]
  },
  {
   "cell_type": "code",
   "execution_count": null,
   "metadata": {},
   "outputs": [],
   "source": []
  },
  {
   "cell_type": "markdown",
   "metadata": {},
   "source": [
    "在 Python 3 中, 我們終於可以和英文同步, 用這種很炫的方式叫出所有國文成績。"
   ]
  },
  {
   "cell_type": "code",
   "execution_count": null,
   "metadata": {},
   "outputs": [],
   "source": []
  },
  {
   "cell_type": "markdown",
   "metadata": {},
   "source": [
    "#### 資料畫出來\n",
    "\n",
    "要畫個圖很容易。"
   ]
  },
  {
   "cell_type": "code",
   "execution_count": null,
   "metadata": {},
   "outputs": [],
   "source": []
  },
  {
   "cell_type": "markdown",
   "metadata": {},
   "source": [
    "當然, 在這個例子中, 其實畫 histogram 圖更有意義一點。"
   ]
  },
  {
   "cell_type": "code",
   "execution_count": null,
   "metadata": {},
   "outputs": [],
   "source": []
  },
  {
   "cell_type": "markdown",
   "metadata": {},
   "source": [
    "## 05-05 一些基本的資料分析"
   ]
  },
  {
   "cell_type": "markdown",
   "metadata": {},
   "source": [
    "算平均。"
   ]
  },
  {
   "cell_type": "code",
   "execution_count": null,
   "metadata": {},
   "outputs": [],
   "source": []
  },
  {
   "cell_type": "markdown",
   "metadata": {},
   "source": [
    "算標準差。"
   ]
  },
  {
   "cell_type": "code",
   "execution_count": null,
   "metadata": {},
   "outputs": [],
   "source": []
  },
  {
   "cell_type": "markdown",
   "metadata": {},
   "source": [
    "不如就該算的都幫我們算算..."
   ]
  },
  {
   "cell_type": "code",
   "execution_count": null,
   "metadata": {},
   "outputs": [],
   "source": []
  },
  {
   "cell_type": "markdown",
   "metadata": {},
   "source": [
    "有時我們很愛看的相關係數矩陣。"
   ]
  },
  {
   "cell_type": "code",
   "execution_count": null,
   "metadata": {},
   "outputs": [],
   "source": []
  },
  {
   "cell_type": "markdown",
   "metadata": {},
   "source": [
    "只算兩科間的相關係數當然也可以。"
   ]
  },
  {
   "cell_type": "code",
   "execution_count": null,
   "metadata": {},
   "outputs": [],
   "source": []
  },
  {
   "cell_type": "markdown",
   "metadata": {},
   "source": [
    "## 05-06 增加一行\n",
    "\n",
    "### 【技巧】\n",
    "\n",
    "我們增加一行, 加入總級分。"
   ]
  },
  {
   "cell_type": "code",
   "execution_count": null,
   "metadata": {},
   "outputs": [],
   "source": []
  },
  {
   "cell_type": "markdown",
   "metadata": {},
   "source": [
    "### 【技巧】\n",
    "\n",
    "有計算的當然也可以的。"
   ]
  },
  {
   "cell_type": "code",
   "execution_count": null,
   "metadata": {},
   "outputs": [],
   "source": []
  },
  {
   "cell_type": "markdown",
   "metadata": {},
   "source": [
    "## 05-07 排序和 index 重設\n",
    "\n",
    "### 【重點】排序的方法\n",
    "\n",
    "我們依總級分來排序。"
   ]
  },
  {
   "cell_type": "code",
   "execution_count": null,
   "metadata": {},
   "outputs": [],
   "source": []
  },
  {
   "cell_type": "markdown",
   "metadata": {},
   "source": [
    "### 【重點】排序的方法\n",
    "\n",
    "加權分最高, 同分才看總級分"
   ]
  },
  {
   "cell_type": "code",
   "execution_count": null,
   "metadata": {},
   "outputs": [],
   "source": []
  },
  {
   "cell_type": "markdown",
   "metadata": {},
   "source": [
    "### 【重點】重設 index"
   ]
  },
  {
   "cell_type": "code",
   "execution_count": null,
   "metadata": {},
   "outputs": [],
   "source": []
  },
  {
   "cell_type": "markdown",
   "metadata": {},
   "source": [
    "## 05-08 篩出我們要的資料\n",
    "\n",
    "基本上和 NumPy 的 array 篩法很像。\n",
    "\n",
    "### 【重點】\n",
    "\n",
    "找出數學滿級分同學。"
   ]
  },
  {
   "cell_type": "code",
   "execution_count": null,
   "metadata": {},
   "outputs": [],
   "source": []
  },
  {
   "cell_type": "markdown",
   "metadata": {},
   "source": [
    "### 【重點】\n",
    "\n",
    "找出數學和英文都滿級分的同學。要注意 `and` 要用 `&`, `or` 要用 `|`。每個條件一定要加弧號。"
   ]
  },
  {
   "cell_type": "code",
   "execution_count": null,
   "metadata": {},
   "outputs": [],
   "source": []
  },
  {
   "cell_type": "markdown",
   "metadata": {},
   "source": [
    "## 05-09 刪除一行或一列\n",
    "\n",
    "### 【重點】刪掉一行\n",
    "\n",
    "我們來刪掉總級分的那行。"
   ]
  },
  {
   "cell_type": "code",
   "execution_count": null,
   "metadata": {},
   "outputs": [],
   "source": []
  },
  {
   "cell_type": "markdown",
   "metadata": {},
   "source": [
    "### 【重點】改變原有的 DataFrame\n",
    "\n",
    "我們會發現 `pandas` 很多動作都沒有更改原有的 DataFrame, 真的要改要加入\n",
    "\n",
    "    inplace=True"
   ]
  },
  {
   "cell_type": "code",
   "execution_count": null,
   "metadata": {},
   "outputs": [],
   "source": []
  },
  {
   "cell_type": "markdown",
   "metadata": {},
   "source": [
    "### 【重點】刪掉一列\n",
    "\n",
    "刪掉列就是指定要刪去的 index。"
   ]
  },
  {
   "cell_type": "code",
   "execution_count": null,
   "metadata": {},
   "outputs": [],
   "source": []
  },
  {
   "cell_type": "markdown",
   "metadata": {},
   "source": [
    "### 【重點】刪掉一列\n",
    "\n",
    "通常刪掉符合條件的比較合理 (注意是找到要刪掉的部份, 再找出相對的 index)。"
   ]
  },
  {
   "cell_type": "code",
   "execution_count": null,
   "metadata": {},
   "outputs": [],
   "source": []
  },
  {
   "cell_type": "markdown",
   "metadata": {},
   "source": [
    "### 【重點】刪掉一列\n",
    "\n",
    "聰明的你是不是想到, 那直接篩出我們要留的就好了啊!"
   ]
  },
  {
   "cell_type": "code",
   "execution_count": null,
   "metadata": {},
   "outputs": [],
   "source": []
  },
  {
   "cell_type": "markdown",
   "metadata": {},
   "source": [
    "## 05-10 真實股價資料\n",
    "\n",
    "有個從 `Pandas` 獨立出來的套件叫 `pandas-datareader`, 幾經波折, 先是 Yahoo! 的財務資料不能用, 後來又是 Google 的資料不能用, 不過至少現在看來 Yahoo! 還可以使用。\n",
    "\n",
    "安裝 `pandas-datareader` 就標準 `conda` 安裝:\n",
    "\n",
    "    conda install pandas-datareader\n",
    "    \n",
    "如果裝過, 但很久沒更新就用:\n",
    "\n",
    "    conda update pandas-datareader\n",
    "    \n",
    "要注意這些指令是要在終端機下的, 如果堅持不要離開 Jupyter Notebook 的安裝, 可以用:\n",
    "\n",
    "    !conda install pandas-datareader -y\n",
    "    \n",
    "你要記得下達 `-y` 這個動作, 不然你的電腦會永遠在那等你按 `y`, 但你其實按不了..."
   ]
  },
  {
   "cell_type": "code",
   "execution_count": null,
   "metadata": {},
   "outputs": [],
   "source": []
  },
  {
   "cell_type": "markdown",
   "metadata": {},
   "source": [
    "我們把這個檔案以 `aapl.csv` 存起來, 之後可以這樣讀入。\n",
    "\n",
    "    df = pd.read_csv('dataset/aapl.csv', index_col=\"Date\")"
   ]
  },
  {
   "cell_type": "code",
   "execution_count": null,
   "metadata": {},
   "outputs": [],
   "source": []
  },
  {
   "cell_type": "markdown",
   "metadata": {},
   "source": [
    "#### 只要最後 240 個交易日!"
   ]
  },
  {
   "cell_type": "code",
   "execution_count": null,
   "metadata": {},
   "outputs": [],
   "source": []
  },
  {
   "cell_type": "markdown",
   "metadata": {},
   "source": [
    "#### 20 日的移動平均"
   ]
  },
  {
   "cell_type": "code",
   "execution_count": null,
   "metadata": {},
   "outputs": [],
   "source": []
  },
  {
   "cell_type": "markdown",
   "metadata": {},
   "source": [
    "#### 20 日和 60 日的移動平均"
   ]
  },
  {
   "cell_type": "code",
   "execution_count": null,
   "metadata": {},
   "outputs": [],
   "source": []
  },
  {
   "cell_type": "markdown",
   "metadata": {},
   "source": [
    "## 05-11 手工打造一個 DataFrame*\n",
    "\n",
    "有時我們用手工打造一個簡單的 DataFrame, 可以更理解整個結構。其實很容易, 一個 DataFrame 基本上就包含兩個主要部份:\n",
    "\n",
    "* 資料本身: 通常一個二維陣列 (矩陣)\n",
    "* 行、列的名稱\n",
    "\n",
    "我們來個簡單的小例子。"
   ]
  },
  {
   "cell_type": "code",
   "execution_count": null,
   "metadata": {},
   "outputs": [],
   "source": []
  },
  {
   "cell_type": "markdown",
   "metadata": {},
   "source": [
    "把行列的名字放進去, 就成一個 DataFrame。我們列的部份先讓 Python 自己產生。"
   ]
  },
  {
   "cell_type": "code",
   "execution_count": null,
   "metadata": {},
   "outputs": [],
   "source": []
  },
  {
   "cell_type": "markdown",
   "metadata": {},
   "source": [
    "#### 兩個表格上下貼起來\n",
    "\n",
    "我們再來生一個 DataFrame, 再「貼」起來。"
   ]
  },
  {
   "cell_type": "code",
   "execution_count": null,
   "metadata": {},
   "outputs": [],
   "source": []
  },
  {
   "cell_type": "markdown",
   "metadata": {},
   "source": [
    "前面我們弄得亂七八糟的 index 重設一下。"
   ]
  },
  {
   "cell_type": "code",
   "execution_count": null,
   "metadata": {},
   "outputs": [],
   "source": []
  },
  {
   "cell_type": "markdown",
   "metadata": {},
   "source": [
    "#### 横向的貼"
   ]
  },
  {
   "cell_type": "code",
   "execution_count": null,
   "metadata": {},
   "outputs": [],
   "source": []
  },
  {
   "cell_type": "markdown",
   "metadata": {},
   "source": [
    "等等, 這大小好像不太對也可以嗎? 答案是可以的!"
   ]
  },
  {
   "cell_type": "code",
   "execution_count": null,
   "metadata": {},
   "outputs": [],
   "source": []
  },
  {
   "cell_type": "markdown",
   "metadata": {},
   "source": [
    "#### 大一點的例子\n",
    "\n",
    "我們來做前面「假的」學測資料。首先要有「假的」同學名單, 如果有興趣產生很多名字, 可以用這個服務。\n",
    "\n",
    "[中文姓名產生器](http://www.richyli.com/name/index.asp)"
   ]
  },
  {
   "cell_type": "code",
   "execution_count": null,
   "metadata": {},
   "outputs": [],
   "source": []
  }
 ],
 "metadata": {
  "kernelspec": {
   "display_name": "Python 3",
   "language": "python",
   "name": "python3"
  },
  "language_info": {
   "codemirror_mode": {
    "name": "ipython",
    "version": 3
   },
   "file_extension": ".py",
   "mimetype": "text/x-python",
   "name": "python",
   "nbconvert_exporter": "python",
   "pygments_lexer": "ipython3",
   "version": "3.7.1"
  }
 },
 "nbformat": 4,
 "nbformat_minor": 2
}
