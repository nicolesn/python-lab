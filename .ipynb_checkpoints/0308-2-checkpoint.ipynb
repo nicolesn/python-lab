{
 "cells": [
  {
   "cell_type": "code",
   "execution_count": null,
   "metadata": {},
   "outputs": [
    {
     "name": "stdout",
     "output_type": "stream",
     "text": [
      "        (*´∀`)~♥\n"
     ]
    }
   ],
   "source": [
    "%matplotlib inline\n",
    "import numpy as np\n",
    "\n",
    "from IPython.display import clear_output\n",
    "import time\n",
    "\n",
    "\n",
    "sp = 0\n",
    "emoticon = '(*´∀`)~♥'\n",
    "\n",
    "for i in range(100):\n",
    "    k = (-1)**np.random.randint(1,3)\n",
    "    sp = sp +k\n",
    "    if sp < 0:\n",
    "        sp = 0\n",
    "    elif sp > 50:\n",
    "        sp = 50\n",
    "    clear_output(wait=True)\n",
    "    print(' ' *sp + emoticon)\n",
    "    time.sleep(0.5)"
   ]
  },
  {
   "cell_type": "code",
   "execution_count": null,
   "metadata": {},
   "outputs": [],
   "source": []
  }
 ],
 "metadata": {
  "kernelspec": {
   "display_name": "Python 3",
   "language": "python",
   "name": "python3"
  },
  "language_info": {
   "codemirror_mode": {
    "name": "ipython",
    "version": 3
   },
   "file_extension": ".py",
   "mimetype": "text/x-python",
   "name": "python",
   "nbconvert_exporter": "python",
   "pygments_lexer": "ipython3",
   "version": "3.7.1"
  }
 },
 "nbformat": 4,
 "nbformat_minor": 2
}
